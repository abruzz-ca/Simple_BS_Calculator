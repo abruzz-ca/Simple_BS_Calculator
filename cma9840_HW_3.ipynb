{
 "cells": [
  {
   "cell_type": "code",
   "execution_count": 10,
   "metadata": {},
   "outputs": [],
   "source": [
    "## import packages\n",
    "from math import log, sqrt, pi, exp\n",
    "from scipy.stats import norm\n",
    "import numpy as np\n",
    "import pandas as pd\n",
    "from pandas import DataFrame"
   ]
  },
  {
   "cell_type": "code",
   "execution_count": 45,
   "metadata": {},
   "outputs": [],
   "source": [
    "## define d1 and d2 in Black-Scholes model\n",
    "def d1(S,K,T,r,sigma):\n",
    "    d1 = (log(S/K)+(r+sigma**2/2)*T)/(sigma*sqrt(T))\n",
    "    return d1\n",
    "\n",
    "def d2(S,K,T,r,sigma):\n",
    "    d2 = d1(S,K,T,r,sigma)-sigma*sqrt(T)\n",
    "    return d2\n"
   ]
  },
  {
   "cell_type": "code",
   "execution_count": 46,
   "metadata": {},
   "outputs": [],
   "source": [
    "## define the call options price function\n",
    "def bs_call(S,K,T,r,sigma):\n",
    "    call = S*norm.cdf(d1(S,K,T,r,sigma))-K*exp(-r*T)*norm.cdf(d2(S,K,T,r,sigma))\n",
    "    return call"
   ]
  },
  {
   "cell_type": "code",
   "execution_count": 47,
   "metadata": {},
   "outputs": [],
   "source": [
    "## define the put options price function\n",
    "def bs_put(S,K,T,r,sigma):\n",
    "    put = K*exp(-r*T)*norm.cdf(-d2(S,K,T,r,sigma))-S*norm.cdf(-d1(S,K,T,r,sigma))\n",
    "    return put"
   ]
  },
  {
   "cell_type": "code",
   "execution_count": 55,
   "metadata": {},
   "outputs": [
    {
     "name": "stdout",
     "output_type": "stream",
     "text": [
      "d1 is = 0.65373\n",
      "d2 is = 0.13412\n",
      "The call price of the option is: 29.244\n",
      "The put price of the option is: 10.734\n"
     ]
    }
   ],
   "source": [
    "## calculate the call / put option price\n",
    "\n",
    "#input values below\n",
    "S=100.0\n",
    "K=110.0\n",
    "r=0.1\n",
    "sigma=0.30\n",
    "T=3\n",
    "\n",
    "Call = bs_call(S,K,T,r,sigma)\n",
    "Put = bs_put(S,K,T,r,sigma)\n",
    "print(\"d1 is = {:.5f}\".format(d1(S,K,T,r,sigma)))\n",
    "print(\"d2 is = {:.5f}\".format(d2(S,K,T,r,sigma)))\n",
    "print(\"The call price of the option is: {:.3f}\".format(Call))\n",
    "print(\"The put price of the option is: {:.3f}\".format(Put))"
   ]
  },
  {
   "cell_type": "code",
   "execution_count": null,
   "metadata": {},
   "outputs": [],
   "source": []
  }
 ],
 "metadata": {
  "kernelspec": {
   "display_name": "Python 3",
   "language": "python",
   "name": "python3"
  },
  "language_info": {
   "codemirror_mode": {
    "name": "ipython",
    "version": 3
   },
   "file_extension": ".py",
   "mimetype": "text/x-python",
   "name": "python",
   "nbconvert_exporter": "python",
   "pygments_lexer": "ipython3",
   "version": "3.8.5"
  },
  "toc": {
   "base_numbering": 1,
   "nav_menu": {},
   "number_sections": true,
   "sideBar": true,
   "skip_h1_title": false,
   "title_cell": "Table of Contents",
   "title_sidebar": "Contents",
   "toc_cell": false,
   "toc_position": {},
   "toc_section_display": true,
   "toc_window_display": false
  }
 },
 "nbformat": 4,
 "nbformat_minor": 4
}
